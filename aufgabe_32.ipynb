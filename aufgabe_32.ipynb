{
 "cells": [
  {
   "cell_type": "markdown",
   "source": [
    "What is the probability distribution function corresponding to the output of the following piece of Python code:"
   ],
   "metadata": {
    "collapsed": false
   }
  },
  {
   "cell_type": "code",
   "execution_count": 2,
   "metadata": {
    "collapsed": true
   },
   "outputs": [
    {
     "name": "stdout",
     "output_type": "stream",
     "text": [
      "['d']\n"
     ]
    }
   ],
   "source": [
    "import numpy as np\n",
    "s = ['a', 'b', 'c', 'd', 'a']\n",
    "print(np.random.choice(s, 1))"
   ]
  },
  {
   "cell_type": "markdown",
   "source": [
    "How often do you have to run the following piece of Python code on average, until it displays the word 'hallo'once?"
   ],
   "metadata": {
    "collapsed": false
   }
  },
  {
   "cell_type": "code",
   "execution_count": 8,
   "outputs": [
    {
     "name": "stdout",
     "output_type": "stream",
     "text": [
      "aooal\n"
     ]
    }
   ],
   "source": [
    "s = ['h', 'a', 'l', 'l', 'o']\n",
    "print(\"\".join(np.random.choice(s, 5)))"
   ],
   "metadata": {
    "collapsed": false
   }
  },
  {
   "cell_type": "code",
   "execution_count": null,
   "outputs": [],
   "source": [],
   "metadata": {
    "collapsed": false
   }
  }
 ],
 "metadata": {
  "kernelspec": {
   "display_name": "Python 3",
   "language": "python",
   "name": "python3"
  },
  "language_info": {
   "codemirror_mode": {
    "name": "ipython",
    "version": 2
   },
   "file_extension": ".py",
   "mimetype": "text/x-python",
   "name": "python",
   "nbconvert_exporter": "python",
   "pygments_lexer": "ipython2",
   "version": "2.7.6"
  }
 },
 "nbformat": 4,
 "nbformat_minor": 0
}
